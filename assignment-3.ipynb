{
 "cells": [
  {
   "cell_type": "code",
   "execution_count": null,
   "id": "afc6b72b",
   "metadata": {},
   "outputs": [],
   "source": [
    "'''Assignment 3\n",
    "\n",
    "This assignment covers your mastery over the basic constructs of\n",
    "    Python. It engages your ability to transform\n",
    "    data without affecting anything outside the program.\n",
    "\n",
    "If you can do this assignment, then you can feel confident in your\n",
    "    Python abilities.\n",
    "'''"
   ]
  },
  {
   "cell_type": "code",
   "execution_count": null,
   "id": "53ff26a3",
   "metadata": {},
   "outputs": [],
   "source": [
    "def shift_letter(letter, shift):\n",
    "    '''Item 1. \n",
    "    Shift Letter. 12 points.\n",
    "    \n",
    "    Shift a letter right by the given number.\n",
    "    Wrap the letter around if it reaches the end of the alphabet.\n",
    "\n",
    "    Examples:\n",
    "    shift_letter(\"A\", 0) -> \"A\"\n",
    "    shift_letter(\"A\", 2) -> \"C\"\n",
    "    shift_letter(\"Z\", 1) -> \"A\"\n",
    "    shift_letter(\"X\", 5) -> \"C\"\n",
    "    shift_letter(\" \", _) -> \" \"\n",
    "\n",
    "    *Note: the single underscore `_` is used to acknowledge the presence\n",
    "        of a value without caring about its contents.\n",
    "\n",
    "    Parameters\n",
    "    ----------\n",
    "    letter: str\n",
    "        a single uppercase English letter, or a space.\n",
    "    shift: int\n",
    "        the number by which to shift the letter. \n",
    "\n",
    "    Returns\n",
    "    -------\n",
    "    str\n",
    "        the letter, shifted appropriately, if a letter.\n",
    "        a single space if the original letter was a space.\n",
    "    '''\n",
    "    # Write your code below this line"
   ]
  },
  {
   "cell_type": "code",
   "execution_count": null,
   "id": "7f4bd1d6",
   "metadata": {},
   "outputs": [],
   "source": [
    "al = ['a', 'b', 'c', 'd', 'e', 'f', 'g', 'h', 'i', 'j', 'k', 'l', 'm', 'n', 'o', 'p', 'q', 'r', 's', 't', 'u', 'v', 'w', 'x', 'y', 'z']\n",
    "n = ''\n",
    "rem = 0\n",
    "fil = 0\n",
    "check = al.index(letter)\n",
    "total = check + shift\n",
    "def shift_letter(letter, shift):\n",
    "    for i in range (len(al)):\n",
    "        if al[i] == letter:\n",
    "            if  total > len(al):\n",
    "                rem = len(al)-check\n",
    "                fil = shift - rem\n",
    "                \n",
    "                new = al[fil]\n",
    "            else:\n",
    "                new = al[i + shift]\n",
    "    return new\n"
   ]
  },
  {
   "cell_type": "code",
   "execution_count": null,
   "id": "70522bd7",
   "metadata": {},
   "outputs": [],
   "source": [
    "letter = input(\"Enter Letter: \")\n",
    "shift = int(input(\"Enter Number: \"))\n",
    "\n",
    "put = shift_letter(letter, shift)\n",
    "\n",
    "print(put)"
   ]
  },
  {
   "cell_type": "code",
   "execution_count": null,
   "id": "098860ab",
   "metadata": {},
   "outputs": [],
   "source": [
    "def caesar_cipher(message, shift):\n",
    "    '''Item 2.\n",
    "    Caesar Cipher. 18 points.\n",
    "    \n",
    "    Apply a shift number to a string of uppercase English letters and spaces.\n",
    "\n",
    "    Parameters\n",
    "    ----------\n",
    "    message: str\n",
    "        a string of uppercase English letters and spaces.\n",
    "    shift: int\n",
    "        the number by which to shift the letters. \n",
    "\n",
    "    Returns\n",
    "    -------\n",
    "    str\n",
    "        the message, shifted appropriately.\n",
    "    '''\n",
    "    \n",
    "    bghn\n",
    "    # Write your code below this line"
   ]
  },
  {
   "cell_type": "code",
   "execution_count": 43,
   "id": "2a37aeae",
   "metadata": {},
   "outputs": [],
   "source": [
    "al = ['a', 'b', 'c', 'd', 'e', 'f', 'g', 'h', 'i', 'j', 'k', 'l', 'm', 'n', 'o', 'p', 'q', 'r', 's', 't', 'u', 'v', 'w', 'x', 'y', 'z']\n",
    "n = []\n",
    "rem = 0\n",
    "fil = 0\n",
    "new = ''\n",
    "def caesar_cipher(message, shift):\n",
    "    newl= list(message)\n",
    "    \n",
    "    for i in range (len(al)):\n",
    "        for j in range (len(newl)):\n",
    "            if al[i] == newl[j]:\n",
    "                check = al.index(newl[j])\n",
    "                total = check + shift\n",
    "                if  total > len(al):\n",
    "                    rem = len(al)-check\n",
    "                    fil = shift - rem\n",
    "                \n",
    "                    n.append(al[fil])\n",
    "                else:\n",
    "                    n.append(al[i + shift])\n",
    "    new = ''.join(n)\n",
    "    return new"
   ]
  },
  {
   "cell_type": "code",
   "execution_count": 44,
   "id": "84432e38",
   "metadata": {},
   "outputs": [
    {
     "name": "stdout",
     "output_type": "stream",
     "text": [
      "Enter Message: bghn\n",
      "Enter Number: 1\n",
      "CHIO\n"
     ]
    }
   ],
   "source": [
    "message = input(\"Enter Message: \")\n",
    "shift = int(input(\"Enter Number: \"))\n",
    "\n",
    "put = caesar_cipher(message, shift)\n",
    "\n",
    "print(put.upper())"
   ]
  },
  {
   "cell_type": "code",
   "execution_count": 27,
   "id": "6788ddf2",
   "metadata": {},
   "outputs": [],
   "source": [
    "def shift_by_letter(letter, shift_letter):\n",
    "    '''Item 3.\n",
    "    Shift By Letter. 12 points.\n",
    "    \n",
    "    Shift a letter to the right using the number equivalent of another letter.\n",
    "    The shift letter is any letter from A to Z, where A represents 0, B represents 1, \n",
    "        ..., Z represents 25.\n",
    "\n",
    "    Examples:\n",
    "    shift_by_letter(\"A\", \"A\") -> \"A\"\n",
    "    shift_by_letter(\"A\", \"C\") -> \"C\"\n",
    "    shift_by_letter(\"B\", \"K\") -> \"L\"\n",
    "    shift_by_letter(\" \", _) -> \" \"\n",
    "\n",
    "    Parameters\n",
    "    ----------\n",
    "    letter: str\n",
    "        a single uppercase English letter, or a space.\n",
    "    letter_shift: str\n",
    "        a single uppercase English letter.\n",
    "\n",
    "    Returns\n",
    "    -------\n",
    "    str\n",
    "        the letter, shifted appropriately.\n",
    "    '''\n",
    "    # Write your code below this line"
   ]
  },
  {
   "cell_type": "code",
   "execution_count": 48,
   "id": "cddaed57",
   "metadata": {},
   "outputs": [],
   "source": [
    "al = ['a', 'b', 'c', 'd', 'e', 'f', 'g', 'h', 'i', 'j', 'k', 'l', 'm', 'n', 'o', 'p', 'q', 'r', 's', 't', 'u', 'v', 'w', 'x', 'y', 'z']\n",
    "num = 0\n",
    "new = ''\n",
    "def shift_by_letter(letter, shift_letter):\n",
    "    x = al.index(letter)\n",
    "    shift_letter = al.index(shift_letter)\n",
    "    num = x + shift_letter\n",
    "    new = al[num]\n",
    "    return new"
   ]
  },
  {
   "cell_type": "code",
   "execution_count": 49,
   "id": "d5ec06f2",
   "metadata": {},
   "outputs": [
    {
     "name": "stdout",
     "output_type": "stream",
     "text": [
      "Enter letter: b\n",
      "Enter shift letter: k\n",
      "l\n"
     ]
    }
   ],
   "source": [
    "letter = input(\"Enter letter: \")\n",
    "shift_letter = input(\"Enter shift letter: \")\n",
    "\n",
    "put = shift_by_letter(letter, shift_letter)\n",
    "print(put)"
   ]
  },
  {
   "cell_type": "code",
   "execution_count": 28,
   "id": "023785a0",
   "metadata": {},
   "outputs": [],
   "source": [
    "def vigenere_cipher(message, key):\n",
    "    '''Item 4.\n",
    "    Vigenere Cipher. 18 points.\n",
    "    \n",
    "    Encrypts a message using a keyphrase instead of a static number.\n",
    "    Every letter in the message is shifted by the number represented by the \n",
    "        respective letter in the key.\n",
    "    Spaces should be ignored.\n",
    "\n",
    "    Example:\n",
    "    vigenere_cipher(\"A C\", \"KEY\") -> \"K A\"\n",
    "\n",
    "    If needed, the keyphrase is extended to match the length of the key.\n",
    "        If the key is \"KEY\" and the message is \"LONGTEXT\",\n",
    "        the key will be extended to be \"KEYKEYKE\".\n",
    "\n",
    "    Parameters\n",
    "    ----------\n",
    "    message: str\n",
    "        a string of uppercase English letters and spaces.\n",
    "    key: str\n",
    "        a string of uppercase English letters. Will never be longer than the message.\n",
    "        Will never contain spaces.\n",
    "\n",
    "    Returns\n",
    "    -------\n",
    "    str\n",
    "        the message, shifted appropriately.\n",
    "    '''\n",
    "    # Write your code below this line"
   ]
  },
  {
   "cell_type": "code",
   "execution_count": 55,
   "id": "b2df9033",
   "metadata": {},
   "outputs": [],
   "source": [
    "al = ['a', 'b', 'c', 'd', 'e', 'f', 'g', 'h', 'i', 'j', 'k', 'l', 'm', 'n', 'o', 'p', 'q', 'r', 's', 't', 'u', 'v', 'w', 'x', 'y', 'z']\n",
    "num = 0\n",
    "new = ''\n",
    "z = []\n",
    "def vigenere_cipher(message, key):\n",
    "    newl= list(message)\n",
    "    keyl= list(key)\n",
    "    \n",
    "    for i in range (len(newl)):\n",
    "        x = al.index(newl[i])\n",
    "        shift_letter = al.index(keyl[i])\n",
    "        num = x + shift_letter\n",
    "        z.append(al[num])\n",
    "    new = ''.join(z)\n",
    "    return new"
   ]
  },
  {
   "cell_type": "code",
   "execution_count": 58,
   "id": "2ddfceb8",
   "metadata": {},
   "outputs": [
    {
     "name": "stdout",
     "output_type": "stream",
     "text": [
      "Enter message: bghn\n",
      "Enter key: bbbb\n",
      "CHIO\n"
     ]
    }
   ],
   "source": [
    "message = input(\"Enter message: \")\n",
    "key = input(\"Enter key: \")\n",
    "if len(key) > len(message):\n",
    "    print(\"Invalid Key\")\n",
    "elif \" \" in key:\n",
    "    print(\"Invalid Key\")\n",
    "else:\n",
    "    put = vigenere_cipher(message, key)\n",
    "    print(put.upper())"
   ]
  }
 ],
 "metadata": {
  "kernelspec": {
   "display_name": "Python 3 (ipykernel)",
   "language": "python",
   "name": "python3"
  },
  "language_info": {
   "codemirror_mode": {
    "name": "ipython",
    "version": 3
   },
   "file_extension": ".py",
   "mimetype": "text/x-python",
   "name": "python",
   "nbconvert_exporter": "python",
   "pygments_lexer": "ipython3",
   "version": "3.9.7"
  }
 },
 "nbformat": 4,
 "nbformat_minor": 5
}
